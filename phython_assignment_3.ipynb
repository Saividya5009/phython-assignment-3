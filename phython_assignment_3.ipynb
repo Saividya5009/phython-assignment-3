{
  "nbformat": 4,
  "nbformat_minor": 0,
  "metadata": {
    "colab": {
      "name": "phython assignment 3.ipynb",
      "provenance": [],
      "authorship_tag": "ABX9TyM7B423qsZJPLk6lA7fEpdC",
      "include_colab_link": true
    },
    "kernelspec": {
      "name": "python3",
      "display_name": "Python 3"
    }
  },
  "cells": [
    {
      "cell_type": "markdown",
      "metadata": {
        "id": "view-in-github",
        "colab_type": "text"
      },
      "source": [
        "<a href=\"https://colab.research.google.com/github/Saividya5009/phython-assignment-3/blob/master/phython_assignment_3.ipynb\" target=\"_parent\"><img src=\"https://colab.research.google.com/assets/colab-badge.svg\" alt=\"Open In Colab\"/></a>"
      ]
    },
    {
      "cell_type": "markdown",
      "metadata": {
        "id": "tsX4j2CccH1q",
        "colab_type": "text"
      },
      "source": [
        "1.write a python program  that take inputs from user and check whether the values are equal or not"
      ]
    },
    {
      "cell_type": "code",
      "metadata": {
        "id": "VS6CRwPCbno6",
        "colab_type": "code",
        "colab": {
          "base_uri": "https://localhost:8080/",
          "height": 68
        },
        "outputId": "8f6b3591-097d-4258-a25c-6bcd697a26af"
      },
      "source": [
        "x=int(input(\"enter tha first number\"))\n",
        "y=int(input(\"enter the second number\"))\n",
        "if x==y:\n",
        "  print(\"the value are equal\")\n",
        "else:\n",
        "    print(\"the values are not equal\")\n"
      ],
      "execution_count": 4,
      "outputs": [
        {
          "output_type": "stream",
          "text": [
            "enter tha first number3\n",
            "enter the second number5\n",
            "the values are not equal\n"
          ],
          "name": "stdout"
        }
      ]
    },
    {
      "cell_type": "markdown",
      "metadata": {
        "id": "zvxQI8c2fRYW",
        "colab_type": "text"
      },
      "source": [
        "2.write a phython program by taking 3 inputs from the user and check all are equal ,any two are equal"
      ]
    },
    {
      "cell_type": "code",
      "metadata": {
        "id": "q8gpX5_Kfmbk",
        "colab_type": "code",
        "colab": {
          "base_uri": "https://localhost:8080/",
          "height": 102
        },
        "outputId": "d0e3e4fb-96f0-41a6-d3ef-602e4fe07c4c"
      },
      "source": [
        "x=int(input(\"enter the value of x\"))\n",
        "y=int(input(\"enter the value of y\"))\n",
        "z=int(input(\"enter the value of z\")) \n",
        "p=x==y and y==z and z==x \n",
        "print(\"all are equal\",p)\n",
        "q=x==y or y==z or z==x  \n",
        "print(\"any three are equal\",q )\n"
      ],
      "execution_count": 16,
      "outputs": [
        {
          "output_type": "stream",
          "text": [
            "enter the value of x3\n",
            "enter the value of y4\n",
            "enter the value of z3\n",
            "all are equal False\n",
            "any three are equal True\n"
          ],
          "name": "stdout"
        }
      ]
    },
    {
      "cell_type": "markdown",
      "metadata": {
        "id": "U6kl2dnIk-nq",
        "colab_type": "text"
      },
      "source": [
        "3.take two numbers check whether the sum is greater than 5 ,less than 5 or equal to 5"
      ]
    },
    {
      "cell_type": "code",
      "metadata": {
        "id": "PPRuddhDlNlZ",
        "colab_type": "code",
        "colab": {
          "base_uri": "https://localhost:8080/",
          "height": 68
        },
        "outputId": "646bb953-c0ca-4156-8331-150bd21a0683"
      },
      "source": [
        "x=int(input(\"enter the first number\"))\n",
        "y=int(input(\"enter the second number\"))\n",
        "sum=x+y\n",
        "if sum==5:\n",
        "  print(\"the sum is 5\")\n",
        "elif sum>5:\n",
        "  print(\"the sum is greater than 5\")\n",
        "else:\n",
        "   print(\"the sum is less than 5\") "
      ],
      "execution_count": 20,
      "outputs": [
        {
          "output_type": "stream",
          "text": [
            "enter the first number3\n",
            "enter the second number4\n",
            "the sum is greater than 5\n"
          ],
          "name": "stdout"
        }
      ]
    },
    {
      "cell_type": "markdown",
      "metadata": {
        "id": "QXg4PmP-mVX-",
        "colab_type": "text"
      },
      "source": [
        "4.take input from the user and check it is greater than pasing marks or not\n",
        "\n"
      ]
    },
    {
      "cell_type": "code",
      "metadata": {
        "id": "9MwqChSFmrXx",
        "colab_type": "code",
        "colab": {
          "base_uri": "https://localhost:8080/",
          "height": 51
        },
        "outputId": "aa23929c-0359-441d-fc25-8ad035d4b18a"
      },
      "source": [
        "x=int(input(\"enter the marks\"))\n",
        "x>=35\n",
        "print(\"the student is pass\")"
      ],
      "execution_count": 25,
      "outputs": [
        {
          "output_type": "stream",
          "text": [
            "enter the marks45\n",
            "the student is pass\n"
          ],
          "name": "stdout"
        }
      ]
    },
    {
      "cell_type": "markdown",
      "metadata": {
        "id": "CNCNBW4mnmnL",
        "colab_type": "text"
      },
      "source": [
        "5.to find max of 3 numbers"
      ]
    },
    {
      "cell_type": "code",
      "metadata": {
        "id": "VIeFzcdzn1Z6",
        "colab_type": "code",
        "colab": {
          "base_uri": "https://localhost:8080/",
          "height": 85
        },
        "outputId": "3152a4d4-b6a4-4177-c926-bb91ee10c30f"
      },
      "source": [
        "x=int(input(\"enter the value of x\"))\n",
        "y=int(input(\"enter the value of y\"))\n",
        "z=int(input(\"enter the value of z\"))\n",
        "if x>y and x>z:\n",
        "  print(\"the value of x is max\")\n",
        "elif y>x and y>z:\n",
        "  print(\"the value of y is max\")\n",
        "elif z>x and z>y:\n",
        "  print(\"the value of z is max\")\n",
        "else:\n",
        "  print(\"the three values are equal\")"
      ],
      "execution_count": 36,
      "outputs": [
        {
          "output_type": "stream",
          "text": [
            "enter the value of x4\n",
            "enter the value of y4\n",
            "enter the value of z4\n",
            "the three values are equal\n"
          ],
          "name": "stdout"
        }
      ]
    }
  ]
}